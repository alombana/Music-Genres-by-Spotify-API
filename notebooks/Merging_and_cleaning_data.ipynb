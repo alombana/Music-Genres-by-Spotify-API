{
 "cells": [
  {
   "cell_type": "code",
   "execution_count": null,
   "id": "8a86c568",
   "metadata": {},
   "outputs": [],
   "source": [
    "import pandas as pd\n",
    "import numpy as np\n",
    "import ast"
   ]
  },
  {
   "cell_type": "code",
   "execution_count": null,
   "id": "66df844a",
   "metadata": {},
   "outputs": [],
   "source": [
    "data_artists=pd.read_csv(\"../Data/final_artists.csv\")\n",
    "data_tracks=pd.read_csv(\"../Data/info_tracks_artists.csv\")"
   ]
  },
  {
   "cell_type": "code",
   "execution_count": null,
   "id": "fd670965",
   "metadata": {},
   "outputs": [],
   "source": [
    "data_tracks[\"song_artists\"]=data_tracks[\"song_artists\"].apply(ast.literal_eval)"
   ]
  },
  {
   "cell_type": "code",
   "execution_count": null,
   "id": "486bea26",
   "metadata": {},
   "outputs": [],
   "source": [
    "data_artists"
   ]
  },
  {
   "cell_type": "code",
   "execution_count": null,
   "id": "98d948dd",
   "metadata": {},
   "outputs": [],
   "source": [
    "data_tracks"
   ]
  },
  {
   "cell_type": "code",
   "execution_count": null,
   "id": "84eaf652",
   "metadata": {},
   "outputs": [],
   "source": [
    "data=data_tracks.merge(data_artists, how=\"inner\", on=\"artist_id\")"
   ]
  },
  {
   "cell_type": "code",
   "execution_count": null,
   "id": "d26169f2",
   "metadata": {},
   "outputs": [],
   "source": [
    "data=data[[\"artist_name\",\"artist_id\",\"genre\",\"artist_popularity\",\"artist_n_followers\",\"song_name\", \"song_id\",\"song_duration_min\",\"song_popularity\",\"song_artists\",\"album_name\",\"album_release_date\"]]"
   ]
  },
  {
   "cell_type": "code",
   "execution_count": null,
   "id": "c3242cb4",
   "metadata": {},
   "outputs": [],
   "source": [
    "data"
   ]
  },
  {
   "cell_type": "code",
   "execution_count": null,
   "id": "0c719ef8",
   "metadata": {},
   "outputs": [],
   "source": [
    "year_release=[]\n",
    "month_release=[]\n",
    "day_release=[]\n",
    "\n",
    "for item in data[\"album_release_date\"]:\n",
    "    if len(item)==4:\n",
    "        year_release.append(item)\n",
    "        month_release.append(np.nan)\n",
    "        day_release.append(np.nan)        \n",
    "    elif len(item)==7:\n",
    "        split_item=item.split(\"-\")\n",
    "        year_release.append(split_item[0])\n",
    "        month_release.append(split_item[1])\n",
    "        day_release.append(np.nan)\n",
    "    else:\n",
    "        split_item=item.split(\"-\")\n",
    "        year_release.append(split_item[0])\n",
    "        month_release.append(split_item[1])\n",
    "        day_release.append(split_item[2])"
   ]
  },
  {
   "cell_type": "code",
   "execution_count": null,
   "id": "edc9cae1",
   "metadata": {},
   "outputs": [],
   "source": [
    "data[\"album_year_release\"]=year_release\n",
    "data[\"album_month_release\"]=month_release\n",
    "data[\"album_day_release\"]=day_release"
   ]
  },
  {
   "cell_type": "code",
   "execution_count": null,
   "id": "8186b5e2",
   "metadata": {},
   "outputs": [],
   "source": [
    "data.drop(\"album_release_date\", axis=1, inplace=True)"
   ]
  },
  {
   "cell_type": "code",
   "execution_count": null,
   "id": "9b8ebfd1",
   "metadata": {},
   "outputs": [],
   "source": [
    "data"
   ]
  },
  {
   "cell_type": "code",
   "execution_count": null,
   "id": "2c3a94b1",
   "metadata": {},
   "outputs": [],
   "source": [
    "duplicates=data[data.duplicated(subset=[\"song_id\"])]\n",
    "data.drop_duplicates(subset=\"song_id\", keep=False, inplace=True, ignore_index=True)"
   ]
  },
  {
   "cell_type": "code",
   "execution_count": null,
   "id": "dd5e1719",
   "metadata": {},
   "outputs": [],
   "source": [
    "data.to_csv(\"../Data/clean_data_tracks_by_artists_genres.csv\", index=False)"
   ]
  }
 ],
 "metadata": {
  "kernelspec": {
   "display_name": "env_3",
   "language": "python",
   "name": "env_3"
  },
  "language_info": {
   "codemirror_mode": {
    "name": "ipython",
    "version": 3
   },
   "file_extension": ".py",
   "mimetype": "text/x-python",
   "name": "python",
   "nbconvert_exporter": "python",
   "pygments_lexer": "ipython3",
   "version": "3.11.5"
  }
 },
 "nbformat": 4,
 "nbformat_minor": 5
}
