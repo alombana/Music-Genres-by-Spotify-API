{
 "cells": [
  {
   "cell_type": "code",
   "execution_count": null,
   "id": "3ae3412f",
   "metadata": {},
   "outputs": [],
   "source": [
    "import pandas as pd\n",
    "import numpy as np\n",
    "import re"
   ]
  },
  {
   "cell_type": "code",
   "execution_count": null,
   "id": "383de4fa",
   "metadata": {},
   "outputs": [],
   "source": [
    "artists=pd.read_csv(\"../Data/info_artists.csv\")"
   ]
  },
  {
   "cell_type": "code",
   "execution_count": null,
   "id": "bcf1e407",
   "metadata": {},
   "outputs": [],
   "source": [
    "artists"
   ]
  },
  {
   "cell_type": "code",
   "execution_count": null,
   "id": "207e2ff4",
   "metadata": {},
   "outputs": [],
   "source": [
    "genres = []\n",
    "for item in artists[\"artist_genres\"]:\n",
    "    genres.append(re.findall(r\"'(.*?)'\",item))\n",
    "    \n",
    "artists[\"artist_genres\"]=genres"
   ]
  },
  {
   "cell_type": "code",
   "execution_count": null,
   "id": "8257d1a1",
   "metadata": {},
   "outputs": [],
   "source": [
    "artists['len'] = artists['artist_genres'].apply(lambda x: len(x))"
   ]
  },
  {
   "cell_type": "code",
   "execution_count": null,
   "id": "14b51238",
   "metadata": {},
   "outputs": [],
   "source": [
    "new_artists = artists[artists['len'] != 0 ] \n",
    "new_artists.reset_index(drop=True, inplace=True)\n",
    "new_artists"
   ]
  },
  {
   "cell_type": "code",
   "execution_count": null,
   "id": "fb2cbe24",
   "metadata": {},
   "outputs": [],
   "source": [
    "dict_genres={}\n",
    "\n",
    "for item in new_artists[\"artist_genres\"]:\n",
    "    for genre in item:\n",
    "        if genre in dict_genres.keys():\n",
    "            dict_genres[genre]+=1\n",
    "        else:\n",
    "            dict_genres[genre]=1\n",
    "   "
   ]
  },
  {
   "cell_type": "code",
   "execution_count": null,
   "id": "5ba308e8",
   "metadata": {},
   "outputs": [],
   "source": [
    "dict_genres"
   ]
  },
  {
   "cell_type": "code",
   "execution_count": null,
   "id": "9f38255a",
   "metadata": {},
   "outputs": [],
   "source": [
    "def get_artist_most_popular_genre(artist_genres: list, filtered_dictionary: dict):\n",
    "    \n",
    "    popular = []\n",
    "    \n",
    "    for genre in artist_genres:\n",
    "        if genre in filtered_dictionary.keys():\n",
    "            popular.append( (filtered_dictionary[genre], genre) )\n",
    "        else: \n",
    "            popular.append( (0, \"None\") )\n",
    "    \n",
    "    max_popular = max(popular)[1]\n",
    "    return max_popular\n"
   ]
  },
  {
   "cell_type": "code",
   "execution_count": null,
   "id": "f90ad00e",
   "metadata": {},
   "outputs": [],
   "source": [
    "results=[ get_artist_most_popular_genre(item, dict_genres) for item in new_artists['artist_genres'] ]\n",
    "new_artists[\"genre\"]=results"
   ]
  },
  {
   "cell_type": "code",
   "execution_count": null,
   "id": "b807cd3c",
   "metadata": {},
   "outputs": [],
   "source": [
    "new_artists.drop([\"artist_genres\",\"len\"], axis=1, inplace=True)"
   ]
  },
  {
   "cell_type": "code",
   "execution_count": null,
   "id": "d6fde4f6",
   "metadata": {
    "scrolled": true
   },
   "outputs": [],
   "source": [
    "new_artists.sort_values(by=[\"genre\",\"artist_popularity\"])"
   ]
  },
  {
   "cell_type": "code",
   "execution_count": null,
   "id": "6e83495e",
   "metadata": {},
   "outputs": [],
   "source": [
    "#Dropping artist that genre frequency is less than 10\n",
    "new_artists.genre.value_counts()"
   ]
  },
  {
   "cell_type": "code",
   "execution_count": null,
   "id": "87ac6673",
   "metadata": {},
   "outputs": [],
   "source": [
    "most_popular_genre=[]\n",
    "for x,y in new_artists.genre.value_counts().items():\n",
    "    if y > 10:\n",
    "        most_popular_genre.append(x)\n",
    "most_popular_genre"
   ]
  },
  {
   "cell_type": "code",
   "execution_count": null,
   "id": "a6a6d88a",
   "metadata": {},
   "outputs": [],
   "source": [
    "final_artists=new_artists[new_artists[\"genre\"].isin(most_popular_genre)].reset_index(drop=True)\n",
    "final_artists"
   ]
  },
  {
   "cell_type": "code",
   "execution_count": null,
   "id": "0b643240",
   "metadata": {},
   "outputs": [],
   "source": [
    "round(pd.pivot_table(final_artists, index=\"genre\", values=[\"artist_popularity\",\"artist_n_followers\"], aggfunc=\"mean\"),0)"
   ]
  },
  {
   "cell_type": "code",
   "execution_count": null,
   "id": "00cb005d",
   "metadata": {},
   "outputs": [],
   "source": [
    "final_artists.to_csv(\"../Data/final_artists.csv\", index=False)"
   ]
  }
 ],
 "metadata": {
  "kernelspec": {
   "display_name": "env_3",
   "language": "python",
   "name": "env_3"
  },
  "language_info": {
   "codemirror_mode": {
    "name": "ipython",
    "version": 3
   },
   "file_extension": ".py",
   "mimetype": "text/x-python",
   "name": "python",
   "nbconvert_exporter": "python",
   "pygments_lexer": "ipython3",
   "version": "3.11.5"
  }
 },
 "nbformat": 4,
 "nbformat_minor": 5
}
