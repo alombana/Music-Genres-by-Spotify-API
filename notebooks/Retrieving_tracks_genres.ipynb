{
 "cells": [
  {
   "cell_type": "code",
   "execution_count": null,
   "id": "3ae3412f",
   "metadata": {},
   "outputs": [],
   "source": [
    "from dotenv import load_dotenv\n",
    "import os\n",
    "import spotipy\n",
    "from spotipy.oauth2 import SpotifyClientCredentials\n",
    "import time\n",
    "import pandas as pd\n",
    "import numpy as np\n"
   ]
  },
  {
   "cell_type": "code",
   "execution_count": null,
   "id": "c65d68ce",
   "metadata": {},
   "outputs": [],
   "source": [
    "load_dotenv()\n",
    "CLIENT_ID= os.getenv(\"CLIENT_ID\")\n",
    "CLIENT_SECRET= os.getenv(\"CLIENT_SECRET\")\n",
    "sp = spotipy.Spotify(auth_manager=SpotifyClientCredentials(client_id=CLIENT_ID, client_secret=CLIENT_SECRET))"
   ]
  },
  {
   "cell_type": "code",
   "execution_count": null,
   "id": "394e2c12",
   "metadata": {},
   "outputs": [],
   "source": [
    "data=pd.read_csv(\"../Data/final_artists.csv\")\n",
    "data"
   ]
  },
  {
   "cell_type": "code",
   "execution_count": null,
   "id": "2dd1f3fd",
   "metadata": {},
   "outputs": [],
   "source": [
    "artists_tracks={}\n",
    "\n",
    "for item in data[\"artist_id\"]:\n",
    "    artists_tracks[item]=sp.artist_top_tracks(item)\n",
    "    time.sleep(0.30)\n",
    "    print(item)"
   ]
  },
  {
   "cell_type": "code",
   "execution_count": null,
   "id": "85b6a7ea",
   "metadata": {},
   "outputs": [],
   "source": [
    "artists_tracks"
   ]
  },
  {
   "cell_type": "code",
   "execution_count": null,
   "id": "a9300455",
   "metadata": {},
   "outputs": [],
   "source": [
    "artist_id=[]\n",
    "album_name=[]\n",
    "album_release_date=[]\n",
    "song_id=[]\n",
    "song_name=[]\n",
    "song_duration_min=[]\n",
    "song_popularity=[]\n",
    "song_artists=[]\n",
    "\n",
    "\n",
    "\n",
    "for key, value in artists_tracks.items():\n",
    "    for item in value[\"tracks\"]:\n",
    "        artist_id.append(key)\n",
    "        album_name.append(item['album']['name'])\n",
    "        album_release_date.append(item['album'][\"release_date\"])\n",
    "        song_id.append(item['id'])\n",
    "        song_name.append(item['name'])\n",
    "        song_duration_min.append(round(((item[\"duration_ms\"])/1000)/60,2))\n",
    "        song_popularity.append(item['popularity'])\n",
    "        \n",
    "        artist_feat=[]\n",
    "        for info in item['album']['artists']:\n",
    "            artist_feat.append(info['name'])\n",
    "        song_artists.append(artist_feat)\n",
    "       "
   ]
  },
  {
   "cell_type": "code",
   "execution_count": null,
   "id": "96728379",
   "metadata": {},
   "outputs": [],
   "source": [
    "tracks_info=pd.DataFrame({\n",
    "\"artist_id\": artist_id,\n",
    "\"album_name\": album_name,\n",
    "\"album_release_date\": album_release_date,\n",
    "\"song_id\": song_id,\n",
    "\"song_name\": song_name,\n",
    "\"song_duration_min\": song_duration_min,\n",
    "\"song_popularity\": song_popularity,\n",
    "\"song_artists\": song_artists})"
   ]
  },
  {
   "cell_type": "code",
   "execution_count": null,
   "id": "690ea150",
   "metadata": {
    "scrolled": false
   },
   "outputs": [],
   "source": [
    "tracks_info"
   ]
  },
  {
   "cell_type": "code",
   "execution_count": null,
   "id": "ea714206",
   "metadata": {},
   "outputs": [],
   "source": [
    "tracks_info[\"song_artists\"]=tracks_info[\"song_artists\"].tolist()"
   ]
  },
  {
   "cell_type": "code",
   "execution_count": null,
   "id": "1ffc2816",
   "metadata": {},
   "outputs": [],
   "source": [
    "tracks_info.to_csv(\"../Data/info_tracks_artists.csv\", index=False)"
   ]
  }
 ],
 "metadata": {
  "kernelspec": {
   "display_name": "env_3",
   "language": "python",
   "name": "env_3"
  },
  "language_info": {
   "codemirror_mode": {
    "name": "ipython",
    "version": 3
   },
   "file_extension": ".py",
   "mimetype": "text/x-python",
   "name": "python",
   "nbconvert_exporter": "python",
   "pygments_lexer": "ipython3",
   "version": "3.11.5"
  }
 },
 "nbformat": 4,
 "nbformat_minor": 5
}
