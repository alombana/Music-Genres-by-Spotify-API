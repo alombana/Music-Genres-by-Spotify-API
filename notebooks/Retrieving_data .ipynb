{
 "cells": [
  {
   "cell_type": "code",
   "execution_count": null,
   "id": "3ae3412f",
   "metadata": {},
   "outputs": [],
   "source": [
    "from dotenv import load_dotenv\n",
    "import os\n",
    "import spotipy\n",
    "from spotipy.oauth2 import SpotifyClientCredentials\n",
    "import time\n",
    "import pandas as pd\n",
    "import numpy as np\n"
   ]
  },
  {
   "cell_type": "code",
   "execution_count": null,
   "id": "c65d68ce",
   "metadata": {},
   "outputs": [],
   "source": [
    "load_dotenv()\n",
    "CLIENT_ID= os.getenv(\"CLIENT_ID\")\n",
    "CLIENT_SECRET= os.getenv(\"CLIENT_SECRET\")\n",
    "sp = spotipy.Spotify(auth_manager=SpotifyClientCredentials(client_id=CLIENT_ID, client_secret=CLIENT_SECRET))"
   ]
  },
  {
   "cell_type": "code",
   "execution_count": null,
   "id": "2dd1f3fd",
   "metadata": {},
   "outputs": [],
   "source": [
    "offset_=0\n",
    "artists_list=[]\n",
    "\n",
    "for item in range(2015,2024):\n",
    "    while offset_ >=0:\n",
    "        try:\n",
    "            artist=sp.search(q=f\"year:{item}\", type='artist', offset=offset_, limit=50)\n",
    "            artists_list.append(artist)\n",
    "            print(offset_)\n",
    "        except:\n",
    "            print(\"reach limit of offset\")\n",
    "            break\n",
    "        offset_+=50\n",
    "        time.sleep(0.30)\n",
    "    offset_=0"
   ]
  },
  {
   "cell_type": "code",
   "execution_count": null,
   "id": "302120ac",
   "metadata": {
    "scrolled": true
   },
   "outputs": [],
   "source": [
    "artist_name=[]\n",
    "artist_id=[]\n",
    "artist_popularity=[]\n",
    "artist_n_followers=[]\n",
    "artist_genres=[]\n",
    "\n",
    "for item in artists_list:\n",
    "    for info in item[\"artists\"][\"items\"]:\n",
    "        #filtering also by the genres because I want to have only the ones where the genre is mentioned\n",
    "        if info[\"popularity\"]>=30 and len(info[\"genres\"])>0:\n",
    "            \n",
    "            artist_name.append(info[\"name\"])\n",
    "            artist_id.append(info[\"id\"])\n",
    "            artist_popularity.append(info[\"popularity\"])\n",
    "            artist_n_followers.append(info[\"followers\"][\"total\"])\n",
    "            artist_genres.append(info[\"genres\"]) \n",
    "            "
   ]
  },
  {
   "cell_type": "code",
   "execution_count": null,
   "id": "b9c533e3",
   "metadata": {},
   "outputs": [],
   "source": [
    "info_artists=pd.DataFrame({\n",
    "\"artist_name\" : artist_name,\n",
    "\"artist_id\" : artist_id,\n",
    "\"artist_popularity\" : artist_popularity,\n",
    "\"artist_n_followers\" : artist_n_followers,\n",
    "\"artist_genres\" : artist_genres})\n"
   ]
  },
  {
   "cell_type": "code",
   "execution_count": null,
   "id": "5f5300ae",
   "metadata": {},
   "outputs": [],
   "source": [
    "info_artists.sort_values(by=\"artist_name\", ascending=True, inplace=True)"
   ]
  },
  {
   "cell_type": "code",
   "execution_count": null,
   "id": "f47c2e5b",
   "metadata": {},
   "outputs": [],
   "source": [
    "info_artists.drop_duplicates(subset=\"artist_name\", inplace=True, ignore_index=True)"
   ]
  },
  {
   "cell_type": "code",
   "execution_count": null,
   "id": "87999997",
   "metadata": {},
   "outputs": [],
   "source": [
    "info_artists.to_csv(\"../Data/info_artists.csv\", index=False)"
   ]
  }
 ],
 "metadata": {
  "kernelspec": {
   "display_name": "env_3",
   "language": "python",
   "name": "env_3"
  },
  "language_info": {
   "codemirror_mode": {
    "name": "ipython",
    "version": 3
   },
   "file_extension": ".py",
   "mimetype": "text/x-python",
   "name": "python",
   "nbconvert_exporter": "python",
   "pygments_lexer": "ipython3",
   "version": "3.11.5"
  }
 },
 "nbformat": 4,
 "nbformat_minor": 5
}
