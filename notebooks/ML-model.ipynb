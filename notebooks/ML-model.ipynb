{
 "cells": [
  {
   "cell_type": "code",
   "execution_count": null,
   "id": "767e904f",
   "metadata": {},
   "outputs": [],
   "source": [
    "import pandas as pd\n",
    "from numpy import cov\n",
    "import matplotlib.pyplot as plt\n",
    "from scipy.stats import pearsonr\n",
    "from scipy.stats import spearmanr\n",
    "import seaborn as sns\n",
    "from sklearn.model_selection import train_test_split\n",
    "from sklearn.ensemble import RandomForestRegressor\n",
    "from sklearn.ensemble import RandomForestClassifier\n",
    "from sklearn.metrics import r2_score, mean_absolute_error, mean_squared_error\n",
    "from datetime import datetime"
   ]
  },
  {
   "cell_type": "code",
   "execution_count": null,
   "id": "73ac699b",
   "metadata": {},
   "outputs": [],
   "source": [
    "data=pd.read_csv(\"../Data/clean_data_tracks_by_artists_genres.csv\")\n",
    "data"
   ]
  },
  {
   "cell_type": "code",
   "execution_count": null,
   "id": "9a269bca",
   "metadata": {},
   "outputs": [],
   "source": [
    "data_filtered=data[[\"genre\",\"artist_name\",\"song_id\",\"song_popularity\", \"album_year_release\"]]"
   ]
  },
  {
   "cell_type": "code",
   "execution_count": null,
   "id": "c6876196",
   "metadata": {},
   "outputs": [],
   "source": [
    "#filtering out the years that are not in consecutive order and 2024 because new songs are being releasing\n",
    "drop_years=[1952,1954,1956,1957,1958,2024]\n",
    "data_filtered=data_filtered[~data_filtered[\"album_year_release\"].isin(drop_years)].reset_index(drop=True)\n",
    "data_filtered"
   ]
  },
  {
   "cell_type": "code",
   "execution_count": null,
   "id": "802889f7",
   "metadata": {},
   "outputs": [],
   "source": [
    "group=data_filtered.groupby([\"album_year_release\", \"genre\"]).agg(amount_artists=(\"artist_name\",\"nunique\"),amount_songs=(\"song_id\",\"nunique\"), avg_song_popularity=(\"song_popularity\",\"mean\"))"
   ]
  },
  {
   "cell_type": "code",
   "execution_count": null,
   "id": "5beabe73",
   "metadata": {},
   "outputs": [],
   "source": [
    "data_model=group.reset_index().round()"
   ]
  },
  {
   "cell_type": "code",
   "execution_count": null,
   "id": "1229efaf",
   "metadata": {},
   "outputs": [],
   "source": [
    "#data_model.to_csv(\"../Data/data_model.csv\", index=False)\n",
    "data_model"
   ]
  },
  {
   "cell_type": "markdown",
   "id": "e22dc1be",
   "metadata": {},
   "source": [
    "## Graphs and checking correlations\n",
    "in order to chose the model"
   ]
  },
  {
   "cell_type": "code",
   "execution_count": null,
   "id": "446bc858",
   "metadata": {},
   "outputs": [],
   "source": [
    "plt.scatter(data_model.album_year_release, data_model.genre, data_model.amount_artists)\n"
   ]
  },
  {
   "cell_type": "code",
   "execution_count": null,
   "id": "54e842ad",
   "metadata": {},
   "outputs": [],
   "source": [
    "plt.scatter(data_model.album_year_release, data_model.genre, data_model.amount_songs)\n"
   ]
  },
  {
   "cell_type": "code",
   "execution_count": null,
   "id": "2c7abb32",
   "metadata": {},
   "outputs": [],
   "source": [
    "plt.scatter(data_model.avg_song_popularity,data_model.genre)\n"
   ]
  },
  {
   "cell_type": "code",
   "execution_count": null,
   "id": "08f21865",
   "metadata": {},
   "outputs": [],
   "source": [
    "#There is some postive relation but lets check in the other line the ceficient of it:\n",
    "print(cov(data_model[\"avg_song_popularity\"], data_model[\"amount_artists\"]))\n"
   ]
  },
  {
   "cell_type": "code",
   "execution_count": null,
   "id": "dad0e077",
   "metadata": {},
   "outputs": [],
   "source": [
    "## Coeficient of correlation 0.24, close to zero, meaning that there is some positive linear relationship between song_popularity and amount_artists but it is weak\n",
    "## P_value less than 0.05, we accept that the pearsonr's coeficient result is a statistically significat\n",
    "correlation_coef, p_value = pearsonr(data_model.avg_song_popularity, data_model.amount_artists)\n",
    "correlation_coef, p_value"
   ]
  },
  {
   "cell_type": "code",
   "execution_count": null,
   "id": "ee7c36dd",
   "metadata": {},
   "outputs": [],
   "source": [
    "# There is some positive monotonic relationship is not a strong one, but it is significant, following the P_value result, being it less than 0.05\n",
    "spearmanr(data_model.avg_song_popularity, data_model.amount_artists)\n"
   ]
  },
  {
   "cell_type": "code",
   "execution_count": null,
   "id": "a324f684",
   "metadata": {},
   "outputs": [],
   "source": [
    "## Coeficient of correlation 0.23, close to zero, meaning that there is some positive linear relationship between song_popularity and amount_songs but it is weak\n",
    "## and it is less than the correlation with amount_artists\n",
    "## P_value less than 0.05, we accept that the pearsonr's coeficient result is a statistically significat\n",
    "correlation_coef, p_value = pearsonr(data_model.avg_song_popularity, data_model.amount_songs)\n",
    "correlation_coef, p_value"
   ]
  },
  {
   "cell_type": "code",
   "execution_count": null,
   "id": "7bab216c",
   "metadata": {},
   "outputs": [],
   "source": [
    "# There is some positive monotonic relationship (less than the monotonic relationship with amount_artist) is not a strong one, but it is significant, following the P_value result, being it less than 0.05\n",
    "spearmanr(data_model.avg_song_popularity, data_model.amount_songs)"
   ]
  },
  {
   "cell_type": "code",
   "execution_count": null,
   "id": "797dfe73",
   "metadata": {},
   "outputs": [],
   "source": [
    "data_model[['amount_artists', 'amount_songs']].corrwith(data_model[\"avg_song_popularity\"], method=\"spearman\")"
   ]
  },
  {
   "cell_type": "markdown",
   "id": "ee396c6c",
   "metadata": {},
   "source": [
    "## Randonforest Regressor"
   ]
  },
  {
   "cell_type": "markdown",
   "id": "2f7583eb",
   "metadata": {},
   "source": [
    "###  Data_feautres, splitting data for testing and training"
   ]
  },
  {
   "cell_type": "code",
   "execution_count": null,
   "id": "f50aa9f7",
   "metadata": {},
   "outputs": [],
   "source": [
    "data_feautures=data_model"
   ]
  },
  {
   "cell_type": "code",
   "execution_count": null,
   "id": "f4ca8b52",
   "metadata": {},
   "outputs": [],
   "source": [
    "oh_encoding=pd.get_dummies(data_feautures[\"genre\"])\n",
    "data_feautures[\"album_year_release\"]=data_feautures[\"album_year_release\"].apply(lambda x: (datetime.strptime(str(x), \"%Y\")).toordinal())\n",
    "data_encoding=pd.concat([data_feautures,oh_encoding], axis=1)\n",
    "data_encoding.drop(\"genre\", axis=1, inplace=True)\n",
    "data_encoding"
   ]
  },
  {
   "cell_type": "code",
   "execution_count": null,
   "id": "85e53091",
   "metadata": {},
   "outputs": [],
   "source": [
    "data_features=data_encoding.drop(\"avg_song_popularity\", axis=1)\n",
    "target=data_feautures.avg_song_popularity\n",
    "#splitting data for test - train model\n",
    "X_train, X_test, y_train, y_test = train_test_split(data_features, target, test_size = 0.20, random_state=0)\n"
   ]
  },
  {
   "cell_type": "code",
   "execution_count": null,
   "id": "f2041b8c",
   "metadata": {},
   "outputs": [],
   "source": [
    "random_forest = RandomForestRegressor()\n",
    "random_forest.fit(X_train, y_train)"
   ]
  },
  {
   "cell_type": "code",
   "execution_count": null,
   "id": "e5e3d823",
   "metadata": {},
   "outputs": [],
   "source": [
    "prediction_ = random_forest.predict(X_test)\n",
    "print(\"R2 score\", random_forest.score(X_test, y_test))"
   ]
  },
  {
   "cell_type": "code",
   "execution_count": null,
   "id": "fcf7825c",
   "metadata": {},
   "outputs": [],
   "source": [
    "print(\"MAE\", mean_absolute_error(prediction_, y_test))\n",
    "print(\"RMSE\", mean_squared_error(prediction_, y_test, squared=False))\n",
    "print(\"R2 score\", random_forest.score(X_train, y_train))"
   ]
  },
  {
   "cell_type": "markdown",
   "id": "e03bfd14",
   "metadata": {},
   "source": [
    "\n",
    "\n",
    "### Data_feautres without splitting"
   ]
  },
  {
   "cell_type": "code",
   "execution_count": null,
   "id": "0251591c",
   "metadata": {},
   "outputs": [],
   "source": [
    "X=data_encoding.drop(\"avg_song_popularity\", axis=1)"
   ]
  },
  {
   "cell_type": "code",
   "execution_count": null,
   "id": "bc1a5159",
   "metadata": {},
   "outputs": [],
   "source": [
    "ranf = RandomForestRegressor()\n",
    "ranf.fit(X, data_feautures.avg_song_popularity)"
   ]
  },
  {
   "cell_type": "code",
   "execution_count": null,
   "id": "34c54500",
   "metadata": {},
   "outputs": [],
   "source": [
    "prediction = ranf.predict(X)"
   ]
  },
  {
   "cell_type": "code",
   "execution_count": null,
   "id": "b866c27b",
   "metadata": {},
   "outputs": [],
   "source": [
    "print(\"MAE\", mean_absolute_error(prediction, data_feautures.avg_song_popularity))\n",
    "print(\"RMSE\", mean_squared_error(prediction, data_feautures.avg_song_popularity, squared=False))\n",
    "print(\"R2 score\", ranf.score(X, data_feautures.avg_song_popularity))"
   ]
  },
  {
   "cell_type": "code",
   "execution_count": null,
   "id": "5f8ab6d9",
   "metadata": {},
   "outputs": [],
   "source": [
    "#LinePlot with original data in axis_y\n",
    "sns.lineplot(data=data_model, x=\"album_year_release\", y=\"avg_song_popularity\", hue=\"genre\")\n",
    "plt.legend(bbox_to_anchor=(1.05, 1), loc=2, borderaxespad=0.)"
   ]
  },
  {
   "cell_type": "code",
   "execution_count": null,
   "id": "b45dd471",
   "metadata": {},
   "outputs": [],
   "source": [
    "#LinePlot with predicted data in axis_y\n",
    "sns.lineplot(data=data_feautures, x=\"album_year_release\", y=prediction, hue=\"genre\")\n",
    "plt.legend(bbox_to_anchor=(1.05, 1), loc=2, borderaxespad=0.)"
   ]
  },
  {
   "cell_type": "markdown",
   "id": "12c47497",
   "metadata": {},
   "source": [
    "### some testing with future dates (no real-data)"
   ]
  },
  {
   "cell_type": "code",
   "execution_count": null,
   "id": "5ecc9df6",
   "metadata": {},
   "outputs": [],
   "source": [
    "test=pd.read_csv(\"../Data/trial.csv\")\n",
    "test[\"album_year_release\"]=test[\"album_year_release\"].apply(lambda x: (datetime.strptime(str(x), \"%Y\")).toordinal())\n",
    "test"
   ]
  },
  {
   "cell_type": "code",
   "execution_count": null,
   "id": "09c3cc48",
   "metadata": {},
   "outputs": [],
   "source": [
    "#prediction using model, without splitting data:\n",
    "#True: 2024=alternative metal, 2025=corrido, 2026=latin pop, 2027=urban latino, 2028=rap\n",
    "prediction_test_ranf = ranf.predict(test)\n",
    "prediction_test_ranf"
   ]
  },
  {
   "cell_type": "code",
   "execution_count": null,
   "id": "b5ecd212",
   "metadata": {},
   "outputs": [],
   "source": [
    "#prediction using model, splitting data:\n",
    "#True: 2024=alternative metal, 2025=corrido, 2026=latin pop, 2027=urban latino, 2028=rap\n",
    "prediction_test_random_forest = random_forest.predict(test)\n",
    "prediction_test_random_forest"
   ]
  },
  {
   "cell_type": "markdown",
   "id": "ec8fc9fe",
   "metadata": {},
   "source": [
    "### changing test, info"
   ]
  },
  {
   "cell_type": "code",
   "execution_count": null,
   "id": "6e043c11",
   "metadata": {},
   "outputs": [],
   "source": [
    "year_=datetime.strptime(\"2050\", \"%Y\")\n",
    "\n",
    "test[\"album_year_release\"]=year_.toordinal()\n",
    "test[\"amount_songs\"]=1\n",
    "test"
   ]
  },
  {
   "cell_type": "code",
   "execution_count": null,
   "id": "414c5c01",
   "metadata": {},
   "outputs": [],
   "source": [
    "#prediction without splitting data:\n",
    "prediction_test_2050_ranf = ranf.predict(test)\n",
    "prediction_test_2050_ranf"
   ]
  },
  {
   "cell_type": "code",
   "execution_count": null,
   "id": "72b6c68f",
   "metadata": {},
   "outputs": [],
   "source": [
    "#prediction splitting data:\n",
    "prediction_test_2050_random_forest = random_forest.predict(test)\n",
    "prediction_test_2050_random_forest"
   ]
  },
  {
   "cell_type": "markdown",
   "id": "b7f4443b",
   "metadata": {},
   "source": [
    "## Random Forest Classifier"
   ]
  },
  {
   "cell_type": "code",
   "execution_count": null,
   "id": "33a6c220",
   "metadata": {},
   "outputs": [],
   "source": [
    "value_genre=(list(range(24)))\n",
    "genres_list=(data_feautures.genre.unique().tolist())\n",
    "dict_genres_value=dict(zip(genres_list,value_genre))\n",
    "dict_genres_value"
   ]
  },
  {
   "cell_type": "code",
   "execution_count": null,
   "id": "53af5288",
   "metadata": {},
   "outputs": [],
   "source": [
    "data_model[\"genre\"]=data_model[\"genre\"].apply(lambda x: dict_genres_value[x] if x in dict_genres_value.keys() else np.nan )"
   ]
  },
  {
   "cell_type": "code",
   "execution_count": null,
   "id": "871b2cc7",
   "metadata": {},
   "outputs": [],
   "source": [
    "data_use_model=data_model.drop(\"genre\", axis=1)\n",
    "target_genre=data_model.genre\n",
    "\n",
    "#splitting data for test - train model\n",
    "X_train_categ, X_test_categ, y_train_categ, y_test_categ = train_test_split(data_use_model, target_genre, test_size = 0.20, random_state=0)\n"
   ]
  },
  {
   "cell_type": "code",
   "execution_count": null,
   "id": "86300258",
   "metadata": {},
   "outputs": [],
   "source": [
    "random_forest_clas = RandomForestClassifier()\n",
    "random_forest_clas.fit(X_train_categ,  y_train_categ)"
   ]
  },
  {
   "cell_type": "code",
   "execution_count": null,
   "id": "8fbb0f87",
   "metadata": {},
   "outputs": [],
   "source": [
    "prediction_categ = random_forest_clas.predict(X_test_categ)\n",
    "print(\"R2 score\", random_forest_clas.score(X_test_categ, y_test_categ))"
   ]
  },
  {
   "cell_type": "code",
   "execution_count": null,
   "id": "ce860b5c",
   "metadata": {},
   "outputs": [],
   "source": [
    "print(\"MAE\", mean_absolute_error(prediction_categ, y_test_categ))\n",
    "print(\"RMSE\", mean_squared_error(prediction_categ, y_test_categ, squared=False))\n",
    "print(\"R2 score\", random_forest_clas.score(X_train_categ, y_train_categ))"
   ]
  }
 ],
 "metadata": {
  "kernelspec": {
   "display_name": "env_3",
   "language": "python",
   "name": "env_3"
  },
  "language_info": {
   "codemirror_mode": {
    "name": "ipython",
    "version": 3
   },
   "file_extension": ".py",
   "mimetype": "text/x-python",
   "name": "python",
   "nbconvert_exporter": "python",
   "pygments_lexer": "ipython3",
   "version": "3.11.5"
  }
 },
 "nbformat": 4,
 "nbformat_minor": 5
}
